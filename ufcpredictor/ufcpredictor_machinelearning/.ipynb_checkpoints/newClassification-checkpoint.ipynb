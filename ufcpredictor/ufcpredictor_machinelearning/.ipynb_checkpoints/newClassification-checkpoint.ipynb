{
 "cells": [
  {
   "cell_type": "code",
   "execution_count": 1,
   "id": "d36670aa-5607-4ed9-b6f6-f9a2a9207513",
   "metadata": {},
   "outputs": [],
   "source": [
    "import numpy as np\n",
    "import pandas as pd\n",
    "\n",
    "df = pd.read_csv('dataScrapped/allFight.csv')\n"
   ]
  },
  {
   "cell_type": "code",
   "execution_count": 2,
   "id": "8dcd4b4a-d47c-4d6c-9371-25d2f8726c1a",
   "metadata": {},
   "outputs": [],
   "source": [
    "for column in df:\n",
    "    df = df[df[column] != '--']\n",
    "\n",
    "df['Win'] = 1\n",
    "\n",
    "dfReversed = df.sample(frac = 0.5,axis=0)\n",
    "\n",
    "for index, row in dfReversed.iterrows():\n",
    "    df.loc[index,'A_Fighter'], df.loc[index,'B_Fighter'] = df.loc[index,'B_Fighter'], df.loc[index,'A_Fighter']\n",
    "    df.loc[index,'A_height'], df.loc[index,'B_height'] = df.loc[index,'B_height'], df.loc[index,'A_height']\n",
    "    df.loc[index,'A_weight'], df.loc[index,'B_weight'] = df.loc[index,'B_weight'], df.loc[index,'A_weight']\n",
    "    df.loc[index,'A_range'], df.loc[index,'B_range'] = df.loc[index,'B_range'], df.loc[index,'A_range']\n",
    "    df.loc[index,'A_Stance'], df.loc[index,'B_Stance'] = df.loc[index,'B_Stance'], df.loc[index,'A_Stance']\n",
    "    df.loc[index,'A_YearBirth'], df.loc[index,'B_YearBirth'] = df.loc[index,'B_YearBirth'], df.loc[index,'A_YearBirth']\n",
    "    df.loc[index,'A_SigStrikeLanded'], df.loc[index,'B_SigStrikeLanded'] = df.loc[index,'B_SigStrikeLanded'], df.loc[index,'A_SigStrikeLanded']\n",
    "    df.loc[index,'A_SigStrikeAcc'], df.loc[index,'B_SigStrikeAcc'] = df.loc[index,'B_SigStrikeAcc'], df.loc[index,'A_SigStrikeAcc']\n",
    "    df.loc[index,'A_SigStrikeAbsorb'], df.loc[index,'B_SigStrikeAbsorb'] = df.loc[index,'B_SigStrikeAbsorb'], df.loc[index,'A_SigStrikeAbsorb']\n",
    "    df.loc[index,'A_SigStrikeDef'], df.loc[index,'B_SigStrikeDef'] = df.loc[index,'B_SigStrikeDef'], df.loc[index,'A_SigStrikeDef']\n",
    "    df.loc[index,'A_TakedownAvg'], df.loc[index,'B_TakedownAvg'] = df.loc[index,'B_TakedownAvg'], df.loc[index,'A_TakedownAvg']\n",
    "    df.loc[index,'A_TakedownAcc'], df.loc[index,'B_TakedownAcc'] = df.loc[index,'B_TakedownAcc'], df.loc[index,'A_TakedownAcc']\n",
    "    df.loc[index,'A_TakedownDef'], df.loc[index,'B_TakedownDef'] = df.loc[index,'B_TakedownDef'], df.loc[index,'A_TakedownDef']\n",
    "    df.loc[index,'A_SubAvg'], df.loc[index,'B_SubAvg'] = df.loc[index,'B_SubAvg'], df.loc[index,'A_SubAvg']\n",
    "    df.loc[index,'Win'] = 0"
   ]
  },
  {
   "cell_type": "code",
   "execution_count": 3,
   "id": "987cfd7f-48a0-41b9-8703-f5c3af9c50f5",
   "metadata": {},
   "outputs": [
    {
     "data": {
      "text/html": [
       "<div>\n",
       "<style scoped>\n",
       "    .dataframe tbody tr th:only-of-type {\n",
       "        vertical-align: middle;\n",
       "    }\n",
       "\n",
       "    .dataframe tbody tr th {\n",
       "        vertical-align: top;\n",
       "    }\n",
       "\n",
       "    .dataframe thead th {\n",
       "        text-align: right;\n",
       "    }\n",
       "</style>\n",
       "<table border=\"1\" class=\"dataframe\">\n",
       "  <thead>\n",
       "    <tr style=\"text-align: right;\">\n",
       "      <th></th>\n",
       "      <th>A_Fighter</th>\n",
       "      <th>B_Fighter</th>\n",
       "      <th>Division</th>\n",
       "      <th>WinBy</th>\n",
       "      <th>EventYear</th>\n",
       "      <th>EventLocation</th>\n",
       "      <th>A_height</th>\n",
       "      <th>A_weight</th>\n",
       "      <th>A_range</th>\n",
       "      <th>A_Stance</th>\n",
       "      <th>...</th>\n",
       "      <th>B_YearBirth</th>\n",
       "      <th>B_SigStrikeLanded</th>\n",
       "      <th>B_SigStrikeAcc</th>\n",
       "      <th>B_SigStrikeAbsorb</th>\n",
       "      <th>B_SigStrikeDef</th>\n",
       "      <th>B_TakedownAvg</th>\n",
       "      <th>B_TakedownAcc</th>\n",
       "      <th>B_TakedownDef</th>\n",
       "      <th>B_SubAvg</th>\n",
       "      <th>Win</th>\n",
       "    </tr>\n",
       "  </thead>\n",
       "  <tbody>\n",
       "    <tr>\n",
       "      <th>0</th>\n",
       "      <td>Israel Adesanya</td>\n",
       "      <td>Alex Pereira</td>\n",
       "      <td>Middleweight</td>\n",
       "      <td>KO/TKO</td>\n",
       "      <td>2022.0</td>\n",
       "      <td>NewYorkCity</td>\n",
       "      <td>76.0</td>\n",
       "      <td>185.0</td>\n",
       "      <td>80.0</td>\n",
       "      <td>Switch</td>\n",
       "      <td>...</td>\n",
       "      <td>1987.0</td>\n",
       "      <td>5.23</td>\n",
       "      <td>59.0</td>\n",
       "      <td>3.63</td>\n",
       "      <td>53.0</td>\n",
       "      <td>0.33</td>\n",
       "      <td>100.0</td>\n",
       "      <td>73.0</td>\n",
       "      <td>0.0</td>\n",
       "      <td>0</td>\n",
       "    </tr>\n",
       "    <tr>\n",
       "      <th>1</th>\n",
       "      <td>Carla Esparza</td>\n",
       "      <td>Zhang Weili</td>\n",
       "      <td>Women's Strawweight</td>\n",
       "      <td>SUB</td>\n",
       "      <td>2022.0</td>\n",
       "      <td>NewYorkCity</td>\n",
       "      <td>61.0</td>\n",
       "      <td>115.0</td>\n",
       "      <td>63.0</td>\n",
       "      <td>Orthodox</td>\n",
       "      <td>...</td>\n",
       "      <td>1989.0</td>\n",
       "      <td>5.79</td>\n",
       "      <td>47.0</td>\n",
       "      <td>4.06</td>\n",
       "      <td>53.0</td>\n",
       "      <td>1.97</td>\n",
       "      <td>34.0</td>\n",
       "      <td>66.0</td>\n",
       "      <td>0.5</td>\n",
       "      <td>0</td>\n",
       "    </tr>\n",
       "    <tr>\n",
       "      <th>2</th>\n",
       "      <td>Michael Chandler</td>\n",
       "      <td>Dustin Poirier</td>\n",
       "      <td>Lightweight</td>\n",
       "      <td>SUB</td>\n",
       "      <td>2022.0</td>\n",
       "      <td>NewYorkCity</td>\n",
       "      <td>68.0</td>\n",
       "      <td>155.0</td>\n",
       "      <td>71.0</td>\n",
       "      <td>Orthodox</td>\n",
       "      <td>...</td>\n",
       "      <td>1989.0</td>\n",
       "      <td>5.51</td>\n",
       "      <td>50.0</td>\n",
       "      <td>4.25</td>\n",
       "      <td>54.0</td>\n",
       "      <td>1.39</td>\n",
       "      <td>36.0</td>\n",
       "      <td>63.0</td>\n",
       "      <td>1.2</td>\n",
       "      <td>0</td>\n",
       "    </tr>\n",
       "    <tr>\n",
       "      <th>3</th>\n",
       "      <td>Chris Gutierrez</td>\n",
       "      <td>Frankie Edgar</td>\n",
       "      <td>Bantamweight</td>\n",
       "      <td>KO/TKO</td>\n",
       "      <td>2022.0</td>\n",
       "      <td>NewYorkCity</td>\n",
       "      <td>69.0</td>\n",
       "      <td>135.0</td>\n",
       "      <td>67.0</td>\n",
       "      <td>Orthodox</td>\n",
       "      <td>...</td>\n",
       "      <td>1981.0</td>\n",
       "      <td>3.77</td>\n",
       "      <td>40.0</td>\n",
       "      <td>2.82</td>\n",
       "      <td>65.0</td>\n",
       "      <td>2.29</td>\n",
       "      <td>31.0</td>\n",
       "      <td>65.0</td>\n",
       "      <td>0.3</td>\n",
       "      <td>1</td>\n",
       "    </tr>\n",
       "    <tr>\n",
       "      <th>4</th>\n",
       "      <td>Claudio Puelles</td>\n",
       "      <td>Dan Hooker</td>\n",
       "      <td>Lightweight</td>\n",
       "      <td>KO/TKO</td>\n",
       "      <td>2022.0</td>\n",
       "      <td>NewYorkCity</td>\n",
       "      <td>70.0</td>\n",
       "      <td>155.0</td>\n",
       "      <td>72.0</td>\n",
       "      <td>Southpaw</td>\n",
       "      <td>...</td>\n",
       "      <td>1990.0</td>\n",
       "      <td>4.83</td>\n",
       "      <td>47.0</td>\n",
       "      <td>4.61</td>\n",
       "      <td>51.0</td>\n",
       "      <td>0.85</td>\n",
       "      <td>36.0</td>\n",
       "      <td>81.0</td>\n",
       "      <td>0.3</td>\n",
       "      <td>0</td>\n",
       "    </tr>\n",
       "    <tr>\n",
       "      <th>5</th>\n",
       "      <td>Brad Riddell</td>\n",
       "      <td>Renato Moicano</td>\n",
       "      <td>Lightweight</td>\n",
       "      <td>SUB</td>\n",
       "      <td>2022.0</td>\n",
       "      <td>NewYorkCity</td>\n",
       "      <td>67.0</td>\n",
       "      <td>155.0</td>\n",
       "      <td>71.0</td>\n",
       "      <td>Orthodox</td>\n",
       "      <td>...</td>\n",
       "      <td>1989.0</td>\n",
       "      <td>4.75</td>\n",
       "      <td>47.0</td>\n",
       "      <td>4.07</td>\n",
       "      <td>60.0</td>\n",
       "      <td>1.66</td>\n",
       "      <td>46.0</td>\n",
       "      <td>74.0</td>\n",
       "      <td>0.7</td>\n",
       "      <td>0</td>\n",
       "    </tr>\n",
       "    <tr>\n",
       "      <th>6</th>\n",
       "      <td>Ryan Spann</td>\n",
       "      <td>Dominick Reyes</td>\n",
       "      <td>Light Heavyweight</td>\n",
       "      <td>KO/TKO</td>\n",
       "      <td>2022.0</td>\n",
       "      <td>NewYorkCity</td>\n",
       "      <td>77.0</td>\n",
       "      <td>205.0</td>\n",
       "      <td>79.0</td>\n",
       "      <td>Orthodox</td>\n",
       "      <td>...</td>\n",
       "      <td>1989.0</td>\n",
       "      <td>4.75</td>\n",
       "      <td>50.0</td>\n",
       "      <td>3.77</td>\n",
       "      <td>48.0</td>\n",
       "      <td>0.36</td>\n",
       "      <td>28.0</td>\n",
       "      <td>80.0</td>\n",
       "      <td>0.4</td>\n",
       "      <td>1</td>\n",
       "    </tr>\n",
       "    <tr>\n",
       "      <th>7</th>\n",
       "      <td>Erin Blanchfield</td>\n",
       "      <td>Molly McCann</td>\n",
       "      <td>Women's Flyweight</td>\n",
       "      <td>SUB</td>\n",
       "      <td>2022.0</td>\n",
       "      <td>NewYorkCity</td>\n",
       "      <td>64.0</td>\n",
       "      <td>125.0</td>\n",
       "      <td>66.0</td>\n",
       "      <td>Orthodox</td>\n",
       "      <td>...</td>\n",
       "      <td>1990.0</td>\n",
       "      <td>5.72</td>\n",
       "      <td>50.0</td>\n",
       "      <td>4.90</td>\n",
       "      <td>63.0</td>\n",
       "      <td>1.67</td>\n",
       "      <td>35.0</td>\n",
       "      <td>44.0</td>\n",
       "      <td>0.5</td>\n",
       "      <td>1</td>\n",
       "    </tr>\n",
       "    <tr>\n",
       "      <th>8</th>\n",
       "      <td>Andre Petroski</td>\n",
       "      <td>Wellington Turman</td>\n",
       "      <td>Middleweight</td>\n",
       "      <td>U-DEC</td>\n",
       "      <td>2022.0</td>\n",
       "      <td>NewYorkCity</td>\n",
       "      <td>72.0</td>\n",
       "      <td>185.0</td>\n",
       "      <td>73.0</td>\n",
       "      <td>Switch</td>\n",
       "      <td>...</td>\n",
       "      <td>1996.0</td>\n",
       "      <td>2.92</td>\n",
       "      <td>49.0</td>\n",
       "      <td>3.79</td>\n",
       "      <td>44.0</td>\n",
       "      <td>1.79</td>\n",
       "      <td>21.0</td>\n",
       "      <td>50.0</td>\n",
       "      <td>1.0</td>\n",
       "      <td>1</td>\n",
       "    </tr>\n",
       "    <tr>\n",
       "      <th>9</th>\n",
       "      <td>Matt Frevola</td>\n",
       "      <td>Ottman Azaitar</td>\n",
       "      <td>Lightweight</td>\n",
       "      <td>KO/TKO</td>\n",
       "      <td>2022.0</td>\n",
       "      <td>NewYorkCity</td>\n",
       "      <td>69.0</td>\n",
       "      <td>155.0</td>\n",
       "      <td>71.0</td>\n",
       "      <td>Orthodox</td>\n",
       "      <td>...</td>\n",
       "      <td>1990.0</td>\n",
       "      <td>6.97</td>\n",
       "      <td>54.0</td>\n",
       "      <td>2.63</td>\n",
       "      <td>63.0</td>\n",
       "      <td>0.00</td>\n",
       "      <td>0.0</td>\n",
       "      <td>100.0</td>\n",
       "      <td>0.0</td>\n",
       "      <td>1</td>\n",
       "    </tr>\n",
       "  </tbody>\n",
       "</table>\n",
       "<p>10 rows × 33 columns</p>\n",
       "</div>"
      ],
      "text/plain": [
       "          A_Fighter          B_Fighter             Division   WinBy  \\\n",
       "0   Israel Adesanya       Alex Pereira         Middleweight  KO/TKO   \n",
       "1     Carla Esparza        Zhang Weili  Women's Strawweight     SUB   \n",
       "2  Michael Chandler     Dustin Poirier          Lightweight     SUB   \n",
       "3   Chris Gutierrez      Frankie Edgar         Bantamweight  KO/TKO   \n",
       "4   Claudio Puelles         Dan Hooker          Lightweight  KO/TKO   \n",
       "5      Brad Riddell     Renato Moicano          Lightweight     SUB   \n",
       "6        Ryan Spann     Dominick Reyes    Light Heavyweight  KO/TKO   \n",
       "7  Erin Blanchfield       Molly McCann    Women's Flyweight     SUB   \n",
       "8    Andre Petroski  Wellington Turman         Middleweight   U-DEC   \n",
       "9      Matt Frevola     Ottman Azaitar          Lightweight  KO/TKO   \n",
       "\n",
       "   EventYear EventLocation A_height A_weight A_range  A_Stance  ...  \\\n",
       "0     2022.0   NewYorkCity     76.0    185.0    80.0    Switch  ...   \n",
       "1     2022.0   NewYorkCity     61.0    115.0    63.0  Orthodox  ...   \n",
       "2     2022.0   NewYorkCity     68.0    155.0    71.0  Orthodox  ...   \n",
       "3     2022.0   NewYorkCity     69.0    135.0    67.0  Orthodox  ...   \n",
       "4     2022.0   NewYorkCity     70.0    155.0    72.0  Southpaw  ...   \n",
       "5     2022.0   NewYorkCity     67.0    155.0    71.0  Orthodox  ...   \n",
       "6     2022.0   NewYorkCity     77.0    205.0    79.0  Orthodox  ...   \n",
       "7     2022.0   NewYorkCity     64.0    125.0    66.0  Orthodox  ...   \n",
       "8     2022.0   NewYorkCity     72.0    185.0    73.0    Switch  ...   \n",
       "9     2022.0   NewYorkCity     69.0    155.0    71.0  Orthodox  ...   \n",
       "\n",
       "  B_YearBirth  B_SigStrikeLanded  B_SigStrikeAcc  B_SigStrikeAbsorb  \\\n",
       "0      1987.0               5.23            59.0               3.63   \n",
       "1      1989.0               5.79            47.0               4.06   \n",
       "2      1989.0               5.51            50.0               4.25   \n",
       "3      1981.0               3.77            40.0               2.82   \n",
       "4      1990.0               4.83            47.0               4.61   \n",
       "5      1989.0               4.75            47.0               4.07   \n",
       "6      1989.0               4.75            50.0               3.77   \n",
       "7      1990.0               5.72            50.0               4.90   \n",
       "8      1996.0               2.92            49.0               3.79   \n",
       "9      1990.0               6.97            54.0               2.63   \n",
       "\n",
       "   B_SigStrikeDef  B_TakedownAvg  B_TakedownAcc  B_TakedownDef  B_SubAvg Win  \n",
       "0            53.0           0.33          100.0           73.0       0.0   0  \n",
       "1            53.0           1.97           34.0           66.0       0.5   0  \n",
       "2            54.0           1.39           36.0           63.0       1.2   0  \n",
       "3            65.0           2.29           31.0           65.0       0.3   1  \n",
       "4            51.0           0.85           36.0           81.0       0.3   0  \n",
       "5            60.0           1.66           46.0           74.0       0.7   0  \n",
       "6            48.0           0.36           28.0           80.0       0.4   1  \n",
       "7            63.0           1.67           35.0           44.0       0.5   1  \n",
       "8            44.0           1.79           21.0           50.0       1.0   1  \n",
       "9            63.0           0.00            0.0          100.0       0.0   1  \n",
       "\n",
       "[10 rows x 33 columns]"
      ]
     },
     "execution_count": 3,
     "metadata": {},
     "output_type": "execute_result"
    }
   ],
   "source": [
    "df.head(10)"
   ]
  },
  {
   "cell_type": "code",
   "execution_count": 4,
   "id": "0835c3fe-1456-4488-aaf5-2b6b896270cb",
   "metadata": {},
   "outputs": [],
   "source": [
    "dumDivision = pd.get_dummies(df['Division'],prefix='Div_')\n",
    "df = pd.concat([df, dumDivision], axis='columns')\n",
    "\n",
    "# dumWinBy = pd.get_dummies(df['WinBy'],prefix='By_')\n",
    "# df = pd.concat([df, dumWinBy], axis='columns')\n",
    "\n",
    "dumYear = pd.get_dummies(df['EventYear'],prefix='Year_')\n",
    "df = pd.concat([df, dumYear], axis='columns')\n",
    "\n",
    "# dumLocation = pd.get_dummies(df['EventLocation'],prefix='Loc_')\n",
    "# df = pd.concat([df, dumLocation], axis='columns')\n",
    "\n",
    "dumAStance = pd.get_dummies(df['A_Stance'],prefix='A_')\n",
    "df = pd.concat([df, dumAStance], axis='columns')\n",
    "\n",
    "dumBStance = pd.get_dummies(df['B_Stance'],prefix='B_')\n",
    "df = pd.concat([df, dumBStance], axis='columns')"
   ]
  },
  {
   "cell_type": "code",
   "execution_count": 5,
   "id": "3ab0703b-6529-458b-83d7-e3473c3ada09",
   "metadata": {},
   "outputs": [
    {
     "data": {
      "text/html": [
       "<div>\n",
       "<style scoped>\n",
       "    .dataframe tbody tr th:only-of-type {\n",
       "        vertical-align: middle;\n",
       "    }\n",
       "\n",
       "    .dataframe tbody tr th {\n",
       "        vertical-align: top;\n",
       "    }\n",
       "\n",
       "    .dataframe thead th {\n",
       "        text-align: right;\n",
       "    }\n",
       "</style>\n",
       "<table border=\"1\" class=\"dataframe\">\n",
       "  <thead>\n",
       "    <tr style=\"text-align: right;\">\n",
       "      <th></th>\n",
       "      <th>A_Fighter</th>\n",
       "      <th>B_Fighter</th>\n",
       "      <th>Division</th>\n",
       "      <th>WinBy</th>\n",
       "      <th>EventYear</th>\n",
       "      <th>EventLocation</th>\n",
       "      <th>A_height</th>\n",
       "      <th>A_weight</th>\n",
       "      <th>A_range</th>\n",
       "      <th>A_Stance</th>\n",
       "      <th>...</th>\n",
       "      <th>Year__2021.0</th>\n",
       "      <th>Year__2022.0</th>\n",
       "      <th>A__OpenStance</th>\n",
       "      <th>A__Orthodox</th>\n",
       "      <th>A__Southpaw</th>\n",
       "      <th>A__Switch</th>\n",
       "      <th>B__OpenStance</th>\n",
       "      <th>B__Orthodox</th>\n",
       "      <th>B__Southpaw</th>\n",
       "      <th>B__Switch</th>\n",
       "    </tr>\n",
       "  </thead>\n",
       "  <tbody>\n",
       "    <tr>\n",
       "      <th>0</th>\n",
       "      <td>Israel Adesanya</td>\n",
       "      <td>Alex Pereira</td>\n",
       "      <td>Middleweight</td>\n",
       "      <td>KO/TKO</td>\n",
       "      <td>2022.0</td>\n",
       "      <td>NewYorkCity</td>\n",
       "      <td>76.0</td>\n",
       "      <td>185.0</td>\n",
       "      <td>80.0</td>\n",
       "      <td>Switch</td>\n",
       "      <td>...</td>\n",
       "      <td>0</td>\n",
       "      <td>1</td>\n",
       "      <td>0</td>\n",
       "      <td>0</td>\n",
       "      <td>0</td>\n",
       "      <td>1</td>\n",
       "      <td>0</td>\n",
       "      <td>1</td>\n",
       "      <td>0</td>\n",
       "      <td>0</td>\n",
       "    </tr>\n",
       "    <tr>\n",
       "      <th>1</th>\n",
       "      <td>Carla Esparza</td>\n",
       "      <td>Zhang Weili</td>\n",
       "      <td>Women's Strawweight</td>\n",
       "      <td>SUB</td>\n",
       "      <td>2022.0</td>\n",
       "      <td>NewYorkCity</td>\n",
       "      <td>61.0</td>\n",
       "      <td>115.0</td>\n",
       "      <td>63.0</td>\n",
       "      <td>Orthodox</td>\n",
       "      <td>...</td>\n",
       "      <td>0</td>\n",
       "      <td>1</td>\n",
       "      <td>0</td>\n",
       "      <td>1</td>\n",
       "      <td>0</td>\n",
       "      <td>0</td>\n",
       "      <td>0</td>\n",
       "      <td>0</td>\n",
       "      <td>0</td>\n",
       "      <td>1</td>\n",
       "    </tr>\n",
       "    <tr>\n",
       "      <th>2</th>\n",
       "      <td>Michael Chandler</td>\n",
       "      <td>Dustin Poirier</td>\n",
       "      <td>Lightweight</td>\n",
       "      <td>SUB</td>\n",
       "      <td>2022.0</td>\n",
       "      <td>NewYorkCity</td>\n",
       "      <td>68.0</td>\n",
       "      <td>155.0</td>\n",
       "      <td>71.0</td>\n",
       "      <td>Orthodox</td>\n",
       "      <td>...</td>\n",
       "      <td>0</td>\n",
       "      <td>1</td>\n",
       "      <td>0</td>\n",
       "      <td>1</td>\n",
       "      <td>0</td>\n",
       "      <td>0</td>\n",
       "      <td>0</td>\n",
       "      <td>0</td>\n",
       "      <td>1</td>\n",
       "      <td>0</td>\n",
       "    </tr>\n",
       "    <tr>\n",
       "      <th>3</th>\n",
       "      <td>Chris Gutierrez</td>\n",
       "      <td>Frankie Edgar</td>\n",
       "      <td>Bantamweight</td>\n",
       "      <td>KO/TKO</td>\n",
       "      <td>2022.0</td>\n",
       "      <td>NewYorkCity</td>\n",
       "      <td>69.0</td>\n",
       "      <td>135.0</td>\n",
       "      <td>67.0</td>\n",
       "      <td>Orthodox</td>\n",
       "      <td>...</td>\n",
       "      <td>0</td>\n",
       "      <td>1</td>\n",
       "      <td>0</td>\n",
       "      <td>1</td>\n",
       "      <td>0</td>\n",
       "      <td>0</td>\n",
       "      <td>0</td>\n",
       "      <td>1</td>\n",
       "      <td>0</td>\n",
       "      <td>0</td>\n",
       "    </tr>\n",
       "    <tr>\n",
       "      <th>4</th>\n",
       "      <td>Claudio Puelles</td>\n",
       "      <td>Dan Hooker</td>\n",
       "      <td>Lightweight</td>\n",
       "      <td>KO/TKO</td>\n",
       "      <td>2022.0</td>\n",
       "      <td>NewYorkCity</td>\n",
       "      <td>70.0</td>\n",
       "      <td>155.0</td>\n",
       "      <td>72.0</td>\n",
       "      <td>Southpaw</td>\n",
       "      <td>...</td>\n",
       "      <td>0</td>\n",
       "      <td>1</td>\n",
       "      <td>0</td>\n",
       "      <td>0</td>\n",
       "      <td>1</td>\n",
       "      <td>0</td>\n",
       "      <td>0</td>\n",
       "      <td>0</td>\n",
       "      <td>0</td>\n",
       "      <td>1</td>\n",
       "    </tr>\n",
       "  </tbody>\n",
       "</table>\n",
       "<p>5 rows × 80 columns</p>\n",
       "</div>"
      ],
      "text/plain": [
       "          A_Fighter       B_Fighter             Division   WinBy  EventYear  \\\n",
       "0   Israel Adesanya    Alex Pereira         Middleweight  KO/TKO     2022.0   \n",
       "1     Carla Esparza     Zhang Weili  Women's Strawweight     SUB     2022.0   \n",
       "2  Michael Chandler  Dustin Poirier          Lightweight     SUB     2022.0   \n",
       "3   Chris Gutierrez   Frankie Edgar         Bantamweight  KO/TKO     2022.0   \n",
       "4   Claudio Puelles      Dan Hooker          Lightweight  KO/TKO     2022.0   \n",
       "\n",
       "  EventLocation A_height A_weight A_range  A_Stance  ... Year__2021.0  \\\n",
       "0   NewYorkCity     76.0    185.0    80.0    Switch  ...            0   \n",
       "1   NewYorkCity     61.0    115.0    63.0  Orthodox  ...            0   \n",
       "2   NewYorkCity     68.0    155.0    71.0  Orthodox  ...            0   \n",
       "3   NewYorkCity     69.0    135.0    67.0  Orthodox  ...            0   \n",
       "4   NewYorkCity     70.0    155.0    72.0  Southpaw  ...            0   \n",
       "\n",
       "   Year__2022.0  A__OpenStance  A__Orthodox  A__Southpaw  A__Switch  \\\n",
       "0             1              0            0            0          1   \n",
       "1             1              0            1            0          0   \n",
       "2             1              0            1            0          0   \n",
       "3             1              0            1            0          0   \n",
       "4             1              0            0            1          0   \n",
       "\n",
       "   B__OpenStance  B__Orthodox  B__Southpaw B__Switch  \n",
       "0              0            1            0         0  \n",
       "1              0            0            0         1  \n",
       "2              0            0            1         0  \n",
       "3              0            1            0         0  \n",
       "4              0            0            0         1  \n",
       "\n",
       "[5 rows x 80 columns]"
      ]
     },
     "execution_count": 5,
     "metadata": {},
     "output_type": "execute_result"
    }
   ],
   "source": [
    "df.head()"
   ]
  },
  {
   "cell_type": "code",
   "execution_count": 6,
   "id": "9f5b21b6-5584-4d9d-b2bb-c607009c97ef",
   "metadata": {},
   "outputs": [
    {
     "data": {
      "text/plain": [
       "0    2914\n",
       "1    2913\n",
       "Name: Win, dtype: int64"
      ]
     },
     "execution_count": 6,
     "metadata": {},
     "output_type": "execute_result"
    }
   ],
   "source": [
    "df['Win'].value_counts()"
   ]
  },
  {
   "cell_type": "code",
   "execution_count": 7,
   "id": "4609d79d-af1a-488d-8da7-39e24a50a745",
   "metadata": {},
   "outputs": [
    {
     "data": {
      "text/plain": [
       "<AxesSubplot:ylabel='Win'>"
      ]
     },
     "execution_count": 7,
     "metadata": {},
     "output_type": "execute_result"
    },
    {
     "data": {
      "image/png": "[encoded data removed]",
      "text/plain": [
       "<Figure size 432x288 with 1 Axes>"
      ]
     },
     "metadata": {},
     "output_type": "display_data"
    }
   ],
   "source": [
    "pct_win = df['Win'].value_counts()/len(df)\n",
    "pct_win.plot(kind='pie',autopct='%1.1f%%', rot=0)"
   ]
  },
  {
   "cell_type": "code",
   "execution_count": 8,
   "id": "9f1e0c81-98a6-49d6-83ed-f9a80a03cb92",
   "metadata": {},
   "outputs": [
    {
     "data": {
      "text/html": [
       "<div>\n",
       "<style scoped>\n",
       "    .dataframe tbody tr th:only-of-type {\n",
       "        vertical-align: middle;\n",
       "    }\n",
       "\n",
       "    .dataframe tbody tr th {\n",
       "        vertical-align: top;\n",
       "    }\n",
       "\n",
       "    .dataframe thead th {\n",
       "        text-align: right;\n",
       "    }\n",
       "</style>\n",
       "<table border=\"1\" class=\"dataframe\">\n",
       "  <thead>\n",
       "    <tr style=\"text-align: right;\">\n",
       "      <th></th>\n",
       "      <th>A_height</th>\n",
       "      <th>A_weight</th>\n",
       "      <th>A_range</th>\n",
       "      <th>A_YearBirth</th>\n",
       "      <th>A_SigStrikeLanded</th>\n",
       "      <th>A_SigStrikeAcc</th>\n",
       "      <th>A_SigStrikeAbsorb</th>\n",
       "      <th>A_SigStrikeDef</th>\n",
       "      <th>A_TakedownAvg</th>\n",
       "      <th>A_TakedownAcc</th>\n",
       "      <th>...</th>\n",
       "      <th>Year__2021.0</th>\n",
       "      <th>Year__2022.0</th>\n",
       "      <th>A__OpenStance</th>\n",
       "      <th>A__Orthodox</th>\n",
       "      <th>A__Southpaw</th>\n",
       "      <th>A__Switch</th>\n",
       "      <th>B__OpenStance</th>\n",
       "      <th>B__Orthodox</th>\n",
       "      <th>B__Southpaw</th>\n",
       "      <th>B__Switch</th>\n",
       "    </tr>\n",
       "  </thead>\n",
       "  <tbody>\n",
       "    <tr>\n",
       "      <th>0</th>\n",
       "      <td>76.0</td>\n",
       "      <td>185.0</td>\n",
       "      <td>80.0</td>\n",
       "      <td>1989.0</td>\n",
       "      <td>3.93</td>\n",
       "      <td>50.0</td>\n",
       "      <td>2.80</td>\n",
       "      <td>58.0</td>\n",
       "      <td>0.06</td>\n",
       "      <td>14.0</td>\n",
       "      <td>...</td>\n",
       "      <td>0</td>\n",
       "      <td>1</td>\n",
       "      <td>0</td>\n",
       "      <td>0</td>\n",
       "      <td>0</td>\n",
       "      <td>1</td>\n",
       "      <td>0</td>\n",
       "      <td>1</td>\n",
       "      <td>0</td>\n",
       "      <td>0</td>\n",
       "    </tr>\n",
       "    <tr>\n",
       "      <th>1</th>\n",
       "      <td>61.0</td>\n",
       "      <td>115.0</td>\n",
       "      <td>63.0</td>\n",
       "      <td>1987.0</td>\n",
       "      <td>2.16</td>\n",
       "      <td>40.0</td>\n",
       "      <td>2.69</td>\n",
       "      <td>55.0</td>\n",
       "      <td>3.22</td>\n",
       "      <td>35.0</td>\n",
       "      <td>...</td>\n",
       "      <td>0</td>\n",
       "      <td>1</td>\n",
       "      <td>0</td>\n",
       "      <td>1</td>\n",
       "      <td>0</td>\n",
       "      <td>0</td>\n",
       "      <td>0</td>\n",
       "      <td>0</td>\n",
       "      <td>0</td>\n",
       "      <td>1</td>\n",
       "    </tr>\n",
       "    <tr>\n",
       "      <th>2</th>\n",
       "      <td>68.0</td>\n",
       "      <td>155.0</td>\n",
       "      <td>71.0</td>\n",
       "      <td>1986.0</td>\n",
       "      <td>4.89</td>\n",
       "      <td>46.0</td>\n",
       "      <td>4.58</td>\n",
       "      <td>46.0</td>\n",
       "      <td>2.17</td>\n",
       "      <td>38.0</td>\n",
       "      <td>...</td>\n",
       "      <td>0</td>\n",
       "      <td>1</td>\n",
       "      <td>0</td>\n",
       "      <td>1</td>\n",
       "      <td>0</td>\n",
       "      <td>0</td>\n",
       "      <td>0</td>\n",
       "      <td>0</td>\n",
       "      <td>1</td>\n",
       "      <td>0</td>\n",
       "    </tr>\n",
       "    <tr>\n",
       "      <th>3</th>\n",
       "      <td>69.0</td>\n",
       "      <td>135.0</td>\n",
       "      <td>67.0</td>\n",
       "      <td>1991.0</td>\n",
       "      <td>4.70</td>\n",
       "      <td>58.0</td>\n",
       "      <td>2.58</td>\n",
       "      <td>64.0</td>\n",
       "      <td>0.44</td>\n",
       "      <td>37.0</td>\n",
       "      <td>...</td>\n",
       "      <td>0</td>\n",
       "      <td>1</td>\n",
       "      <td>0</td>\n",
       "      <td>1</td>\n",
       "      <td>0</td>\n",
       "      <td>0</td>\n",
       "      <td>0</td>\n",
       "      <td>1</td>\n",
       "      <td>0</td>\n",
       "      <td>0</td>\n",
       "    </tr>\n",
       "    <tr>\n",
       "      <th>4</th>\n",
       "      <td>70.0</td>\n",
       "      <td>155.0</td>\n",
       "      <td>72.0</td>\n",
       "      <td>1996.0</td>\n",
       "      <td>1.82</td>\n",
       "      <td>49.0</td>\n",
       "      <td>2.93</td>\n",
       "      <td>47.0</td>\n",
       "      <td>2.41</td>\n",
       "      <td>30.0</td>\n",
       "      <td>...</td>\n",
       "      <td>0</td>\n",
       "      <td>1</td>\n",
       "      <td>0</td>\n",
       "      <td>0</td>\n",
       "      <td>1</td>\n",
       "      <td>0</td>\n",
       "      <td>0</td>\n",
       "      <td>0</td>\n",
       "      <td>0</td>\n",
       "      <td>1</td>\n",
       "    </tr>\n",
       "    <tr>\n",
       "      <th>...</th>\n",
       "      <td>...</td>\n",
       "      <td>...</td>\n",
       "      <td>...</td>\n",
       "      <td>...</td>\n",
       "      <td>...</td>\n",
       "      <td>...</td>\n",
       "      <td>...</td>\n",
       "      <td>...</td>\n",
       "      <td>...</td>\n",
       "      <td>...</td>\n",
       "      <td>...</td>\n",
       "      <td>...</td>\n",
       "      <td>...</td>\n",
       "      <td>...</td>\n",
       "      <td>...</td>\n",
       "      <td>...</td>\n",
       "      <td>...</td>\n",
       "      <td>...</td>\n",
       "      <td>...</td>\n",
       "      <td>...</td>\n",
       "      <td>...</td>\n",
       "    </tr>\n",
       "    <tr>\n",
       "      <th>6859</th>\n",
       "      <td>74.0</td>\n",
       "      <td>170.0</td>\n",
       "      <td>78.0</td>\n",
       "      <td>1991.0</td>\n",
       "      <td>3.15</td>\n",
       "      <td>26.0</td>\n",
       "      <td>6.39</td>\n",
       "      <td>54.0</td>\n",
       "      <td>0.00</td>\n",
       "      <td>0.0</td>\n",
       "      <td>...</td>\n",
       "      <td>0</td>\n",
       "      <td>0</td>\n",
       "      <td>0</td>\n",
       "      <td>1</td>\n",
       "      <td>0</td>\n",
       "      <td>0</td>\n",
       "      <td>0</td>\n",
       "      <td>1</td>\n",
       "      <td>0</td>\n",
       "      <td>0</td>\n",
       "    </tr>\n",
       "    <tr>\n",
       "      <th>6860</th>\n",
       "      <td>74.0</td>\n",
       "      <td>205.0</td>\n",
       "      <td>76.0</td>\n",
       "      <td>1984.0</td>\n",
       "      <td>3.72</td>\n",
       "      <td>48.0</td>\n",
       "      <td>2.57</td>\n",
       "      <td>53.0</td>\n",
       "      <td>0.88</td>\n",
       "      <td>33.0</td>\n",
       "      <td>...</td>\n",
       "      <td>0</td>\n",
       "      <td>0</td>\n",
       "      <td>0</td>\n",
       "      <td>1</td>\n",
       "      <td>0</td>\n",
       "      <td>0</td>\n",
       "      <td>0</td>\n",
       "      <td>0</td>\n",
       "      <td>1</td>\n",
       "      <td>0</td>\n",
       "    </tr>\n",
       "    <tr>\n",
       "      <th>6861</th>\n",
       "      <td>71.0</td>\n",
       "      <td>170.0</td>\n",
       "      <td>72.0</td>\n",
       "      <td>1988.0</td>\n",
       "      <td>4.47</td>\n",
       "      <td>42.0</td>\n",
       "      <td>3.68</td>\n",
       "      <td>58.0</td>\n",
       "      <td>2.19</td>\n",
       "      <td>35.0</td>\n",
       "      <td>...</td>\n",
       "      <td>0</td>\n",
       "      <td>0</td>\n",
       "      <td>0</td>\n",
       "      <td>1</td>\n",
       "      <td>0</td>\n",
       "      <td>0</td>\n",
       "      <td>0</td>\n",
       "      <td>1</td>\n",
       "      <td>0</td>\n",
       "      <td>0</td>\n",
       "    </tr>\n",
       "    <tr>\n",
       "      <th>6862</th>\n",
       "      <td>66.0</td>\n",
       "      <td>135.0</td>\n",
       "      <td>64.0</td>\n",
       "      <td>1989.0</td>\n",
       "      <td>4.19</td>\n",
       "      <td>47.0</td>\n",
       "      <td>3.39</td>\n",
       "      <td>63.0</td>\n",
       "      <td>2.76</td>\n",
       "      <td>42.0</td>\n",
       "      <td>...</td>\n",
       "      <td>0</td>\n",
       "      <td>0</td>\n",
       "      <td>0</td>\n",
       "      <td>1</td>\n",
       "      <td>0</td>\n",
       "      <td>0</td>\n",
       "      <td>0</td>\n",
       "      <td>1</td>\n",
       "      <td>0</td>\n",
       "      <td>0</td>\n",
       "    </tr>\n",
       "    <tr>\n",
       "      <th>6863</th>\n",
       "      <td>76.0</td>\n",
       "      <td>205.0</td>\n",
       "      <td>81.0</td>\n",
       "      <td>1989.0</td>\n",
       "      <td>0.65</td>\n",
       "      <td>26.0</td>\n",
       "      <td>3.64</td>\n",
       "      <td>21.0</td>\n",
       "      <td>0.00</td>\n",
       "      <td>0.0</td>\n",
       "      <td>...</td>\n",
       "      <td>0</td>\n",
       "      <td>0</td>\n",
       "      <td>0</td>\n",
       "      <td>1</td>\n",
       "      <td>0</td>\n",
       "      <td>0</td>\n",
       "      <td>0</td>\n",
       "      <td>1</td>\n",
       "      <td>0</td>\n",
       "      <td>0</td>\n",
       "    </tr>\n",
       "  </tbody>\n",
       "</table>\n",
       "<p>5827 rows × 71 columns</p>\n",
       "</div>"
      ],
      "text/plain": [
       "     A_height A_weight A_range A_YearBirth  A_SigStrikeLanded  A_SigStrikeAcc  \\\n",
       "0        76.0    185.0    80.0      1989.0               3.93            50.0   \n",
       "1        61.0    115.0    63.0      1987.0               2.16            40.0   \n",
       "2        68.0    155.0    71.0      1986.0               4.89            46.0   \n",
       "3        69.0    135.0    67.0      1991.0               4.70            58.0   \n",
       "4        70.0    155.0    72.0      1996.0               1.82            49.0   \n",
       "...       ...      ...     ...         ...                ...             ...   \n",
       "6859     74.0    170.0    78.0      1991.0               3.15            26.0   \n",
       "6860     74.0    205.0    76.0      1984.0               3.72            48.0   \n",
       "6861     71.0    170.0    72.0      1988.0               4.47            42.0   \n",
       "6862     66.0    135.0    64.0      1989.0               4.19            47.0   \n",
       "6863     76.0    205.0    81.0      1989.0               0.65            26.0   \n",
       "\n",
       "      A_SigStrikeAbsorb  A_SigStrikeDef  A_TakedownAvg  A_TakedownAcc  ...  \\\n",
       "0                  2.80            58.0           0.06           14.0  ...   \n",
       "1                  2.69            55.0           3.22           35.0  ...   \n",
       "2                  4.58            46.0           2.17           38.0  ...   \n",
       "3                  2.58            64.0           0.44           37.0  ...   \n",
       "4                  2.93            47.0           2.41           30.0  ...   \n",
       "...                 ...             ...            ...            ...  ...   \n",
       "6859               6.39            54.0           0.00            0.0  ...   \n",
       "6860               2.57            53.0           0.88           33.0  ...   \n",
       "6861               3.68            58.0           2.19           35.0  ...   \n",
       "6862               3.39            63.0           2.76           42.0  ...   \n",
       "6863               3.64            21.0           0.00            0.0  ...   \n",
       "\n",
       "      Year__2021.0  Year__2022.0 A__OpenStance A__Orthodox A__Southpaw  \\\n",
       "0                0             1             0           0           0   \n",
       "1                0             1             0           1           0   \n",
       "2                0             1             0           1           0   \n",
       "3                0             1             0           1           0   \n",
       "4                0             1             0           0           1   \n",
       "...            ...           ...           ...         ...         ...   \n",
       "6859             0             0             0           1           0   \n",
       "6860             0             0             0           1           0   \n",
       "6861             0             0             0           1           0   \n",
       "6862             0             0             0           1           0   \n",
       "6863             0             0             0           1           0   \n",
       "\n",
       "     A__Switch  B__OpenStance  B__Orthodox  B__Southpaw  B__Switch  \n",
       "0            1              0            1            0          0  \n",
       "1            0              0            0            0          1  \n",
       "2            0              0            0            1          0  \n",
       "3            0              0            1            0          0  \n",
       "4            0              0            0            0          1  \n",
       "...        ...            ...          ...          ...        ...  \n",
       "6859         0              0            1            0          0  \n",
       "6860         0              0            0            1          0  \n",
       "6861         0              0            1            0          0  \n",
       "6862         0              0            1            0          0  \n",
       "6863         0              0            1            0          0  \n",
       "\n",
       "[5827 rows x 71 columns]"
      ]
     },
     "execution_count": 8,
     "metadata": {},
     "output_type": "execute_result"
    }
   ],
   "source": [
    "from sklearn.model_selection import train_test_split\n",
    "\n",
    "X_values = df.drop(['A_Fighter','B_Fighter','Division','WinBy','EventYear','EventLocation','A_Stance','B_Stance','Win'],axis=1)\n",
    "y_values = df['Win']\n",
    "\n",
    "X_train, X_test, y_train, y_test = train_test_split(X_values, y_values, test_size=0.2, random_state=99)\n",
    "\n",
    "X_values"
   ]
  },
  {
   "cell_type": "code",
   "execution_count": 9,
   "id": "f50c3240-5f30-48d2-aec3-ce24501065ed",
   "metadata": {},
   "outputs": [
    {
     "name": "stdout",
     "output_type": "stream",
     "text": [
      "Optimal number of features : 16\n"
     ]
    }
   ],
   "source": [
    "from sklearn.feature_selection import RFECV\n",
    "from sklearn.ensemble import RandomForestClassifier\n",
    "\n",
    "randomForest = RandomForestClassifier(random_state=99)\n",
    "rfecv_rf = RFECV(estimator=randomForest,cv=5)\n",
    "rfecv_rf.fit(X_train,y_train) \n",
    "\n",
    "print(\"Optimal number of features : %d\" % rfecv_rf.n_features_)"
   ]
  },
  {
   "cell_type": "code",
   "execution_count": 10,
   "id": "e9049602-0e53-4ba5-b944-f8e09a771d27",
   "metadata": {},
   "outputs": [
    {
     "name": "stdout",
     "output_type": "stream",
     "text": [
      "Optimal number of features : 71\n"
     ]
    },
    {
     "name": "stderr",
     "output_type": "stream",
     "text": [
      "C:\\Users\\test\\AppData\\Local\\Programs\\Python\\Python310\\lib\\site-packages\\sklearn\\utils\\deprecation.py:103: FutureWarning: Attribute `n_features_` was deprecated in version 1.0 and will be removed in 1.2. Use `n_features_in_` instead.\n",
      "  warnings.warn(msg, category=FutureWarning)\n"
     ]
    }
   ],
   "source": [
    "from sklearn.ensemble import BaggingClassifier\n",
    "\n",
    "rfecv_rfBag = BaggingClassifier(rfecv_rf)\n",
    "rfecv_rfBag.fit(X_train,y_train) \n",
    "\n",
    "print(\"Optimal number of features : %d\" % rfecv_rfBag.n_features_)"
   ]
  },
  {
   "cell_type": "code",
   "execution_count": 11,
   "id": "84f0c92a-67cc-475c-9a7c-c2234b3bb2a7",
   "metadata": {},
   "outputs": [
    {
     "name": "stdout",
     "output_type": "stream",
     "text": [
      "Optimal number of features : 71\n"
     ]
    },
    {
     "name": "stderr",
     "output_type": "stream",
     "text": [
      "C:\\Users\\test\\AppData\\Local\\Programs\\Python\\Python310\\lib\\site-packages\\sklearn\\utils\\deprecation.py:103: FutureWarning: Attribute `n_features_` was deprecated in version 1.0 and will be removed in 1.2. Use `n_features_in_` instead.\n",
      "  warnings.warn(msg, category=FutureWarning)\n"
     ]
    }
   ],
   "source": [
    "randomForestBag = BaggingClassifier(randomForest)\n",
    "randomForestBag.fit(X_train,y_train)\n",
    "\n",
    "print(\"Optimal number of features : %d\" % randomForestBag.n_features_)"
   ]
  },
  {
   "cell_type": "code",
   "execution_count": 76,
   "id": "8b5a5e86-7bb6-4630-bf6e-752f4f3de014",
   "metadata": {},
   "outputs": [
    {
     "name": "stdout",
     "output_type": "stream",
     "text": [
      "Optimal number of features : 18\n"
     ]
    }
   ],
   "source": [
    "from sklearn.ensemble import AdaBoostClassifier\n",
    "\n",
    "adaBoost = AdaBoostClassifier()\n",
    "rfecv_ab = RFECV(estimator=adaBoost,cv=5)\n",
    "rfecv_ab.fit(X_train,y_train)\n",
    "\n",
    "print(\"Optimal number of features : %d\" % rfecv_ab.n_features_)"
   ]
  },
  {
   "cell_type": "code",
   "execution_count": 78,
   "id": "7bfcef7e-801b-4075-8b8d-9c0fa21a5312",
   "metadata": {},
   "outputs": [
    {
     "name": "stdout",
     "output_type": "stream",
     "text": [
      "Optimal number of features : 41\n"
     ]
    }
   ],
   "source": [
    "from sklearn.ensemble import GradientBoostingClassifier\n",
    "\n",
    "gradBoost = GradientBoostingClassifier()\n",
    "rfecv_gb = RFECV(estimator=gradBoost,cv=5)\n",
    "rfecv_gb.fit(X_train,y_train)\n",
    "\n",
    "print(\"Optimal number of features : %d\" % rfecv_gb.n_features_)"
   ]
  },
  {
   "cell_type": "code",
   "execution_count": 70,
   "id": "ea32ab15-a3cc-450c-81d9-a26f3ece9749",
   "metadata": {},
   "outputs": [
    {
     "name": "stdout",
     "output_type": "stream",
     "text": [
      "[[368 220]\n",
      " [220 358]]\n",
      "0.6226415094339622\n"
     ]
    }
   ],
   "source": [
    "from sklearn.metrics import confusion_matrix\n",
    "from sklearn.metrics import accuracy_score\n",
    "\n",
    "y_pred = rfecv_rf.predict(X_test)\n",
    "print(confusion_matrix(y_test, y_pred))\n",
    "print(accuracy_score(y_test, y_pred))"
   ]
  },
  {
   "cell_type": "code",
   "execution_count": 71,
   "id": "b9a4d984-4b68-4074-80ca-b906eee11b08",
   "metadata": {},
   "outputs": [
    {
     "name": "stdout",
     "output_type": "stream",
     "text": [
      "[[371 217]\n",
      " [217 361]]\n",
      "0.62778730703259\n"
     ]
    }
   ],
   "source": [
    "y_pred = rfecv_rfBag.predict(X_test)\n",
    "print(confusion_matrix(y_test, y_pred))\n",
    "print(accuracy_score(y_test, y_pred))"
   ]
  },
  {
   "cell_type": "code",
   "execution_count": 72,
   "id": "f6e64c8e-d593-4a1a-bf75-bb0a2399e2e5",
   "metadata": {},
   "outputs": [
    {
     "name": "stdout",
     "output_type": "stream",
     "text": [
      "[[375 213]\n",
      " [211 367]]\n",
      "0.6363636363636364\n"
     ]
    }
   ],
   "source": [
    "y_pred = randomForestBag.predict(X_test)\n",
    "print(confusion_matrix(y_test, y_pred))\n",
    "print(accuracy_score(y_test, y_pred))"
   ]
  },
  {
   "cell_type": "code",
   "execution_count": 77,
   "id": "136c60be-2120-4a75-9b3f-691cca89b57a",
   "metadata": {},
   "outputs": [
    {
     "name": "stdout",
     "output_type": "stream",
     "text": [
      "[[351 237]\n",
      " [225 353]]\n",
      "0.6037735849056604\n"
     ]
    }
   ],
   "source": [
    "y_pred = rfecv_ab.predict(X_test)\n",
    "print(confusion_matrix(y_test, y_pred))\n",
    "print(accuracy_score(y_test, y_pred))"
   ]
  },
  {
   "cell_type": "code",
   "execution_count": 79,
   "id": "460643fe-a584-44cd-a96e-d98b073d2faf",
   "metadata": {},
   "outputs": [
    {
     "name": "stdout",
     "output_type": "stream",
     "text": [
      "[[361 227]\n",
      " [211 367]]\n",
      "0.6243567753001715\n"
     ]
    }
   ],
   "source": [
    "y_pred = rfecv_gb.predict(X_test)\n",
    "print(confusion_matrix(y_test, y_pred))\n",
    "print(accuracy_score(y_test, y_pred))"
   ]
  },
  {
   "cell_type": "code",
   "execution_count": 12,
   "id": "a8898d08-4f69-4dcd-9b4a-7aa824dba1da",
   "metadata": {},
   "outputs": [
    {
     "data": {
      "text/plain": [
       "<sklearn.metrics._plot.roc_curve.RocCurveDisplay at 0x25cfe277760>"
      ]
     },
     "execution_count": 12,
     "metadata": {},
     "output_type": "execute_result"
    },
    {
     "data": {
      "image/png": "[encoded data removed]",
      "text/plain": [
       "<Figure size 432x288 with 1 Axes>"
      ]
     },
     "metadata": {
      "needs_background": "light"
     },
     "output_type": "display_data"
    }
   ],
   "source": [
    "from sklearn.metrics import RocCurveDisplay\n",
    "import matplotlib.pyplot as plt\n",
    "\n",
    "RocCurveDisplay.from_estimator(rfecv_rf, X_test, y_test)"
   ]
  },
  {
   "cell_type": "code",
   "execution_count": 13,
   "id": "839b9e1e-fa89-4ddc-b5fa-e9bd15bc7746",
   "metadata": {},
   "outputs": [
    {
     "data": {
      "text/plain": [
       "<sklearn.metrics._plot.roc_curve.RocCurveDisplay at 0x25cdc00f5e0>"
      ]
     },
     "execution_count": 13,
     "metadata": {},
     "output_type": "execute_result"
    },
    {
     "data": {
      "image/png": "[encoded data removed]",
      "text/plain": [
       "<Figure size 432x288 with 1 Axes>"
      ]
     },
     "metadata": {
      "needs_background": "light"
     },
     "output_type": "display_data"
    }
   ],
   "source": [
    "RocCurveDisplay.from_estimator(rfecv_rfBag, X_test, y_test)"
   ]
  },
  {
   "cell_type": "code",
   "execution_count": 14,
   "id": "8b2492e9-f8de-4e94-889e-e06c1478cf54",
   "metadata": {},
   "outputs": [
    {
     "data": {
      "text/plain": [
       "<sklearn.metrics._plot.roc_curve.RocCurveDisplay at 0x25ca3cad1b0>"
      ]
     },
     "execution_count": 14,
     "metadata": {},
     "output_type": "execute_result"
    },
    {
     "data": {
      "image/png": "[encoded data removed]",
      "text/plain": [
       "<Figure size 432x288 with 1 Axes>"
      ]
     },
     "metadata": {
      "needs_background": "light"
     },
     "output_type": "display_data"
    }
   ],
   "source": [
    "RocCurveDisplay.from_estimator(randomForestBag, X_test, y_test)"
   ]
  },
  {
   "cell_type": "code",
   "execution_count": 15,
   "id": "47522d24-352f-4e4f-96d4-b0440c2677b4",
   "metadata": {},
   "outputs": [
    {
     "name": "stderr",
     "output_type": "stream",
     "text": [
      "C:\\Users\\test\\AppData\\Local\\Programs\\Python\\Python310\\lib\\site-packages\\sklearn\\utils\\deprecation.py:103: FutureWarning: The `grid_scores_` attribute is deprecated in version 1.0 in favor of `cv_results_` and will be removed in version 1.2.\n",
      "  warnings.warn(msg, category=FutureWarning)\n"
     ]
    },
    {
     "data": {
      "image/png": "[encoded data removed]",
      "text/plain": [
       "<Figure size 432x288 with 1 Axes>"
      ]
     },
     "metadata": {
      "needs_background": "light"
     },
     "output_type": "display_data"
    }
   ],
   "source": [
    "plt.figure()\n",
    "plt.xlabel(\"Number of features selected\")\n",
    "plt.ylabel(\"Cross validation score (accuracy)\")\n",
    "plt.plot(\n",
    "    range(1, len(rfecv_rf.grid_scores_) + 1),\n",
    "    rfecv_rf.grid_scores_,\n",
    ")\n",
    "plt.show()"
   ]
  },
  {
   "cell_type": "code",
   "execution_count": 16,
   "id": "5b40e95b-846b-4b4d-bdd4-eab98dc4e85d",
   "metadata": {},
   "outputs": [
    {
     "data": {
      "image/png": "[encoded data removed]",
      "text/plain": [
       "<Figure size 432x288 with 1 Axes>"
      ]
     },
     "metadata": {
      "needs_background": "light"
     },
     "output_type": "display_data"
    }
   ],
   "source": [
    "total = rfecv_rfBag.estimators_[0].grid_scores_\n",
    "for i in range(1,len(rfecv_rfBag.estimators_)):\n",
    "    total = total + rfecv_rfBag.estimators_[i].grid_scores_\n",
    "\n",
    "rfecv_rfBag_grid = total/len(rfecv_rfBag.estimators_)\n",
    "\n",
    "plt.figure()\n",
    "plt.xlabel(\"Number of features selected\")\n",
    "plt.ylabel(\"Cross validation score (accuracy)\")\n",
    "plt.plot(\n",
    "    range(1, len(rfecv_rfBag_grid) + 1),\n",
    "    rfecv_rfBag_grid,\n",
    ")\n",
    "plt.show()"
   ]
  },
  {
   "cell_type": "code",
   "execution_count": 95,
   "id": "7fd53441-6af9-4a10-bc6e-85e4357842e5",
   "metadata": {},
   "outputs": [],
   "source": [
    "from sklearn.preprocessing import StandardScaler\n",
    "\n",
    "scaler = StandardScaler()\n",
    "X_train_scaled = scaler.fit_transform(X_train)\n",
    "X_test_scaled = scaler.transform(X_test)\n",
    "\n",
    "import tensorflow as tf\n",
    "tf.random.set_seed(99)\n",
    "\n",
    "model = tf.keras.Sequential([\n",
    "    tf.keras.layers.Dense(128, activation='relu'),\n",
    "    tf.keras.layers.Dense(128, activation='relu'),\n",
    "    tf.keras.layers.Dense(256, activation='relu'),\n",
    "    tf.keras.layers.Dense(1, activation='sigmoid'),\n",
    "])\n",
    "\n",
    "model.compile(\n",
    "    loss = tf.keras.losses.binary_crossentropy,\n",
    "    optimizer = tf.keras.optimizers.Adam(learning_rate=0.9),\n",
    "    metrics=[\n",
    "        tf.keras.metrics.BinaryAccuracy(name='accuracy'),\n",
    "        tf.keras.metrics.Precision(name='precision'),\n",
    "        tf.keras.metrics.Recall(name='recall')\n",
    "    ]\n",
    ")"
   ]
  },
  {
   "cell_type": "code",
   "execution_count": null,
   "id": "240236e3-ccfa-4201-9a55-2f07bcc903e0",
   "metadata": {},
   "outputs": [
    {
     "name": "stdout",
     "output_type": "stream",
     "text": [
      "Epoch 1/100\n",
      " 53/146 [=========>....................] - ETA: 0s - loss: 21391.3047 - accuracy: 0.5088 - precision: 0.5066 - recall: 0.4988"
     ]
    }
   ],
   "source": [
    "history = model.fit(X_train_scaled, y_train, epochs = 100)"
   ]
  },
  {
   "cell_type": "code",
   "execution_count": 83,
   "id": "a29186b4-9b03-4605-b704-fe52a0d9857b",
   "metadata": {},
   "outputs": [
    {
     "name": "stdout",
     "output_type": "stream",
     "text": [
      "37/37 [==============================] - 0s 2ms/step\n"
     ]
    }
   ],
   "source": [
    "pred = model.predict(X_test_scaled)\n",
    "pred_classes = [1 if val > 0.5 else 0 for val in np.ravel(pred)]"
   ]
  },
  {
   "cell_type": "code",
   "execution_count": 84,
   "id": "70abe6d6-e347-43e6-a890-0e6e599f0b4f",
   "metadata": {},
   "outputs": [
    {
     "name": "stdout",
     "output_type": "stream",
     "text": [
      "[[588   0]\n",
      " [578   0]]\n"
     ]
    }
   ],
   "source": [
    "print(confusion_matrix(y_test, pred_classes))"
   ]
  },
  {
   "cell_type": "code",
   "execution_count": 88,
   "id": "fd0d7b6a-289c-46bb-9c11-c3658e52b463",
   "metadata": {},
   "outputs": [
    {
     "data": {
      "text/plain": [
       "<sklearn.metrics._plot.roc_curve.RocCurveDisplay at 0x25d5588c9a0>"
      ]
     },
     "execution_count": 88,
     "metadata": {},
     "output_type": "execute_result"
    },
    {
     "data": {
      "image/png": "[encoded data removed]",
      "text/plain": [
       "<Figure size 432x288 with 1 Axes>"
      ]
     },
     "metadata": {
      "needs_background": "light"
     },
     "output_type": "display_data"
    }
   ],
   "source": [
    "from sklearn.metrics import roc_curve, auc\n",
    "\n",
    "fpr, tpr, threshold = roc_curve(y_test, pred)\n",
    "roc_auc = auc(fpr, tpr)\n",
    "RocCurveDisplay(fpr=fpr, tpr=tpr, roc_auc=roc_auc).plot()"
   ]
  },
  {
   "cell_type": "code",
   "execution_count": null,
   "id": "57a95d19-541f-442c-a22c-dd5935f65f5f",
   "metadata": {},
   "outputs": [],
   "source": []
  }
 ],
 "metadata": {
  "kernelspec": {
   "display_name": "Python 3 (ipykernel)",
   "language": "python",
   "name": "python3"
  },
  "language_info": {
   "codemirror_mode": {
    "name": "ipython",
    "version": 3
   },
   "file_extension": ".py",
   "mimetype": "text/x-python",
   "name": "python",
   "nbconvert_exporter": "python",
   "pygments_lexer": "ipython3",
   "version": "3.10.5"
  }
 },
 "nbformat": 4,
 "nbformat_minor": 5
}
